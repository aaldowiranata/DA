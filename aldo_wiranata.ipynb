{
  "nbformat": 4,
  "nbformat_minor": 0,
  "metadata": {
    "colab": {
      "provenance": [],
      "authorship_tag": "ABX9TyNB0IYxDGWjjyGghAYHYHDu",
      "include_colab_link": true
    },
    "kernelspec": {
      "name": "python3",
      "display_name": "Python 3"
    },
    "language_info": {
      "name": "python"
    }
  },
  "cells": [
    {
      "cell_type": "markdown",
      "metadata": {
        "id": "view-in-github",
        "colab_type": "text"
      },
      "source": [
        "<a href=\"https://colab.research.google.com/github/aaldowiranata/DA/blob/main/aldo_wiranata.ipynb\" target=\"_parent\"><img src=\"https://colab.research.google.com/assets/colab-badge.svg\" alt=\"Open In Colab\"/></a>"
      ]
    },
    {
      "cell_type": "code",
      "execution_count": 3,
      "metadata": {
        "colab": {
          "base_uri": "https://localhost:8080/"
        },
        "id": "Uv08OHWpiiFj",
        "outputId": "e29bfa26-d09b-4dec-fa43-4c3435aeb273"
      },
      "outputs": [
        {
          "output_type": "execute_result",
          "data": {
            "text/plain": [
              "{'Chocolate Cake': 12,\n",
              " 'Ice Cream': 19,\n",
              " 'Brownie': 8,\n",
              " 'Chocolate Chip Cookie': 12,\n",
              " 'Chocolate Pudding': 9,\n",
              " 'Chocolate Cheesecake': 17,\n",
              " 'Chocolate Chips': 2,\n",
              " 'Mochi': 13}"
            ]
          },
          "metadata": {},
          "execution_count": 3
        }
      ],
      "source": [
        "{ 'Chocolate Cake': 12, 'Ice Cream': 19, \n",
        "'Brownie': 8, 'Chocolate Chip Cookie': 12, 'Chocolate Pudding': 9,'Chocolate Cheesecake':\n",
        "17, 'Chocolate Chips': 2, 'Mochi': 13, }"
      ]
    },
    {
      "cell_type": "code",
      "source": [
        "[8762.0, 9241.1,3597.2, 9704.3, 9352.4, 9853.5, 6231.6, 6905.7, 3677.8, 7874.9,]"
      ],
      "metadata": {
        "colab": {
          "base_uri": "https://localhost:8080/"
        },
        "id": "COfFsO76jy2d",
        "outputId": "d4919e53-a6c6-4c06-ff65-2303b5476d13"
      },
      "execution_count": 11,
      "outputs": [
        {
          "output_type": "execute_result",
          "data": {
            "text/plain": [
              "[8762.0,\n",
              " 9241.1,\n",
              " 3597.2,\n",
              " 9704.3,\n",
              " 9352.4,\n",
              " 9853.5,\n",
              " 6231.6,\n",
              " 6905.7,\n",
              " 3677.8,\n",
              " 7874.9]"
            ]
          },
          "metadata": {},
          "execution_count": 11
        }
      ]
    },
    {
      "cell_type": "code",
      "source": [
        " ['Snickers']\n",
        " [52, 39, 78, 13, 78]"
      ],
      "metadata": {
        "colab": {
          "base_uri": "https://localhost:8080/"
        },
        "id": "qboqBLynlvrf",
        "outputId": "defa8151-0246-4df3-d595-e6404cdca7e6"
      },
      "execution_count": 22,
      "outputs": [
        {
          "output_type": "execute_result",
          "data": {
            "text/plain": [
              "[52, 39, 78, 13, 78]"
            ]
          },
          "metadata": {},
          "execution_count": 22
        }
      ]
    },
    {
      "cell_type": "code",
      "source": [
        "[1, 2, 3, 1, 1, 3, 4, 2, 3, 1, 2, 2, 5, 3, 2, 1, 4, 2, 45, 26, 33, 2, 2, 1], # Sunday ]"
      ],
      "metadata": {
        "colab": {
          "base_uri": "https://localhost:8080/"
        },
        "id": "ll6aiuAemymC",
        "outputId": "8b1fd1bb-8faf-4dc9-cf49-8364aa9922aa"
      },
      "execution_count": 26,
      "outputs": [
        {
          "output_type": "execute_result",
          "data": {
            "text/plain": [
              "([1, 2, 3, 1, 1, 3, 4, 2, 3, 1, 2, 2, 5, 3, 2, 1, 4, 2, 45, 26, 33, 2, 2, 1],)"
            ]
          },
          "metadata": {},
          "execution_count": 26
        }
      ]
    }
  ]
}